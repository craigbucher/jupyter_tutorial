{
 "cells": [
  {
   "cell_type": "code",
   "execution_count": 1,
   "id": "a4156696",
   "metadata": {},
   "outputs": [],
   "source": [
    "import numpy as np"
   ]
  },
  {
   "cell_type": "code",
   "execution_count": 2,
   "id": "4ac5573b",
   "metadata": {},
   "outputs": [],
   "source": [
    "import pandas as pd"
   ]
  },
  {
   "cell_type": "code",
   "execution_count": null,
   "id": "31448b13",
   "metadata": {},
   "outputs": [],
   "source": [
    "# Pandas series - like a table column - 1 dimensional array holding any type of data"
   ]
  },
  {
   "cell_type": "code",
   "execution_count": 4,
   "id": "eaab8d72",
   "metadata": {},
   "outputs": [
    {
     "data": {
      "text/plain": [
       "0     5\n",
       "1     9\n",
       "2    12\n",
       "3    27\n",
       "dtype: int64"
      ]
     },
     "execution_count": 4,
     "metadata": {},
     "output_type": "execute_result"
    }
   ],
   "source": [
    "my_series = [5,9,12,27]\n",
    "my_var = pd.Series(my_series)\n",
    "my_var"
   ]
  },
  {
   "cell_type": "code",
   "execution_count": null,
   "id": "201ecbdd",
   "metadata": {},
   "outputs": [],
   "source": [
    "# Print specific value"
   ]
  },
  {
   "cell_type": "code",
   "execution_count": 5,
   "id": "e8675bda",
   "metadata": {},
   "outputs": [
    {
     "data": {
      "text/plain": [
       "12"
      ]
     },
     "execution_count": 5,
     "metadata": {},
     "output_type": "execute_result"
    }
   ],
   "source": [
    "my_var[2]"
   ]
  },
  {
   "cell_type": "code",
   "execution_count": null,
   "id": "2e3b32cb",
   "metadata": {},
   "outputs": [],
   "source": [
    "# Labels using the index argument"
   ]
  },
  {
   "cell_type": "code",
   "execution_count": 7,
   "id": "0449cde7",
   "metadata": {},
   "outputs": [
    {
     "data": {
      "text/plain": [
       "A     5\n",
       "B     9\n",
       "C    12\n",
       "D    27\n",
       "dtype: int64"
      ]
     },
     "execution_count": 7,
     "metadata": {},
     "output_type": "execute_result"
    }
   ],
   "source": [
    "my_index = ['A', 'B', 'C', 'D']\n",
    "# my_var2 = pd.Series(my_series, my_index) # shift+tab gives options for function\n",
    "my_var2 = pd.Series(my_series, ['A', 'B', 'C', 'D']) # works the same as above\n",
    "my_var2"
   ]
  },
  {
   "cell_type": "code",
   "execution_count": 9,
   "id": "83b0c4f5",
   "metadata": {},
   "outputs": [
    {
     "data": {
      "text/plain": [
       "9"
      ]
     },
     "execution_count": 9,
     "metadata": {},
     "output_type": "execute_result"
    }
   ],
   "source": [
    "my_var2['B'] # returns value of row 'B'"
   ]
  },
  {
   "cell_type": "code",
   "execution_count": null,
   "id": "c2cb4502",
   "metadata": {},
   "outputs": [],
   "source": [
    "# Key Value Dictionary"
   ]
  },
  {
   "cell_type": "code",
   "execution_count": 11,
   "id": "c5de21a7",
   "metadata": {},
   "outputs": [
    {
     "data": {
      "text/plain": [
       "Tesla       12\n",
       "Mercedes    42\n",
       "BWM          3\n",
       "dtype: int64"
      ]
     },
     "execution_count": 11,
     "metadata": {},
     "output_type": "execute_result"
    }
   ],
   "source": [
    "cars = {'Tesla':12, 'Mercedes':42, 'BWM':3}\n",
    "my_var3 = pd.Series(cars)\n",
    "my_var3"
   ]
  },
  {
   "cell_type": "code",
   "execution_count": 12,
   "id": "b3426cfc",
   "metadata": {},
   "outputs": [
    {
     "data": {
      "text/plain": [
       "12"
      ]
     },
     "execution_count": 12,
     "metadata": {},
     "output_type": "execute_result"
    }
   ],
   "source": [
    "my_var3['Tesla']"
   ]
  },
  {
   "cell_type": "code",
   "execution_count": null,
   "id": "a4d229c5",
   "metadata": {},
   "outputs": [],
   "source": []
  }
 ],
 "metadata": {
  "kernelspec": {
   "display_name": "Python 3 (ipykernel)",
   "language": "python",
   "name": "python3"
  },
  "language_info": {
   "codemirror_mode": {
    "name": "ipython",
    "version": 3
   },
   "file_extension": ".py",
   "mimetype": "text/x-python",
   "name": "python",
   "nbconvert_exporter": "python",
   "pygments_lexer": "ipython3",
   "version": "3.10.6"
  }
 },
 "nbformat": 4,
 "nbformat_minor": 5
}
