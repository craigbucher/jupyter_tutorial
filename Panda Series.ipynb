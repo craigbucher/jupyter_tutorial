{
 "cells": [
  {
   "cell_type": "code",
   "execution_count": 1,
   "id": "d160183f",
   "metadata": {},
   "outputs": [],
   "source": [
    "import numpy as np"
   ]
  },
  {
   "cell_type": "code",
   "execution_count": 2,
   "id": "04220d19",
   "metadata": {},
   "outputs": [],
   "source": [
    "import pandas as pd"
   ]
  },
  {
   "cell_type": "code",
   "execution_count": null,
   "id": "e3b6a79c",
   "metadata": {},
   "outputs": [],
   "source": [
    "# Pandas series - like a table column - 1 dimensional array holding any type of data"
   ]
  },
  {
   "cell_type": "code",
   "execution_count": 4,
   "id": "14113a63",
   "metadata": {},
   "outputs": [
    {
     "data": {
      "text/plain": [
       "0     5\n",
       "1     9\n",
       "2    12\n",
       "3    27\n",
       "dtype: int64"
      ]
     },
     "execution_count": 4,
     "metadata": {},
     "output_type": "execute_result"
    }
   ],
   "source": [
    "my_series = [5,9,12,27]\n",
    "my_var = pd.Series(my_series)\n",
    "my_var"
   ]
  },
  {
   "cell_type": "code",
   "execution_count": null,
   "id": "60f0606a",
   "metadata": {},
   "outputs": [],
   "source": [
    "# Print specific value"
   ]
  },
  {
   "cell_type": "code",
   "execution_count": 5,
   "id": "640524a0",
   "metadata": {},
   "outputs": [
    {
     "data": {
      "text/plain": [
       "12"
      ]
     },
     "execution_count": 5,
     "metadata": {},
     "output_type": "execute_result"
    }
   ],
   "source": [
    "my_var[2]"
   ]
  },
  {
   "cell_type": "code",
   "execution_count": null,
   "id": "b0fc32b4",
   "metadata": {},
   "outputs": [],
   "source": [
    "# Labels using the index argument"
   ]
  },
  {
   "cell_type": "code",
   "execution_count": 7,
   "id": "0a6d69ab",
   "metadata": {},
   "outputs": [
    {
     "data": {
      "text/plain": [
       "A     5\n",
       "B     9\n",
       "C    12\n",
       "D    27\n",
       "dtype: int64"
      ]
     },
     "execution_count": 7,
     "metadata": {},
     "output_type": "execute_result"
    }
   ],
   "source": [
    "my_index = ['A', 'B', 'C', 'D']\n",
    "# my_var2 = pd.Series(my_series, my_index) # shift+tab gives options for function\n",
    "my_var2 = pd.Series(my_series, ['A', 'B', 'C', 'D']) # works the same as above\n",
    "my_var2"
   ]
  },
  {
   "cell_type": "code",
   "execution_count": 9,
   "id": "3dd0332f",
   "metadata": {},
   "outputs": [
    {
     "data": {
      "text/plain": [
       "9"
      ]
     },
     "execution_count": 9,
     "metadata": {},
     "output_type": "execute_result"
    }
   ],
   "source": [
    "my_var2['B'] # returns value of row 'B'"
   ]
  },
  {
   "cell_type": "code",
   "execution_count": null,
   "id": "890acbd7",
   "metadata": {},
   "outputs": [],
   "source": [
    "# Key Value Dictionary"
   ]
  },
  {
   "cell_type": "code",
   "execution_count": 11,
   "id": "26c11ee3",
   "metadata": {},
   "outputs": [
    {
     "data": {
      "text/plain": [
       "Tesla       12\n",
       "Mercedes    42\n",
       "BWM          3\n",
       "dtype: int64"
      ]
     },
     "execution_count": 11,
     "metadata": {},
     "output_type": "execute_result"
    }
   ],
   "source": [
    "cars = {'Tesla':12, 'Mercedes':42, 'BWM':3}\n",
    "my_var3 = pd.Series(cars)\n",
    "my_var3"
   ]
  },
  {
   "cell_type": "code",
   "execution_count": 12,
   "id": "8f88c101",
   "metadata": {},
   "outputs": [
    {
     "data": {
      "text/plain": [
       "12"
      ]
     },
     "execution_count": 12,
     "metadata": {},
     "output_type": "execute_result"
    }
   ],
   "source": [
    "my_var3['Tesla']"
   ]
  },
  {
   "cell_type": "code",
   "execution_count": null,
   "id": "09e4fb1d",
   "metadata": {},
   "outputs": [],
   "source": []
  }
 ],
 "metadata": {
  "kernelspec": {
   "display_name": "Python 3 (ipykernel)",
   "language": "python",
   "name": "python3"
  },
  "language_info": {
   "codemirror_mode": {
    "name": "ipython",
    "version": 3
   },
   "file_extension": ".py",
   "mimetype": "text/x-python",
   "name": "python",
   "nbconvert_exporter": "python",
   "pygments_lexer": "ipython3",
   "version": "3.10.6"
  }
 },
 "nbformat": 4,
 "nbformat_minor": 5
}
